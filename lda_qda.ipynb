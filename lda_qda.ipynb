{
 "cells": [
  {
   "cell_type": "code",
   "execution_count": 1,
   "id": "065cc30e",
   "metadata": {},
   "outputs": [],
   "source": [
    "load('.RData')"
   ]
  },
  {
   "cell_type": "code",
   "execution_count": 59,
   "id": "c84e0574",
   "metadata": {},
   "outputs": [],
   "source": [
    "library(ggplot2)\n",
    "library(ggpubr)\n",
    "library(caret)\n",
    "library(gmodels)"
   ]
  },
  {
   "cell_type": "code",
   "execution_count": 4,
   "id": "75ec7e6e",
   "metadata": {},
   "outputs": [],
   "source": [
    "fit_control <- trainControl(## 10-fold CV\n",
    "                           method = \"repeatedcv\",\n",
    "                           number = 10,\n",
    "                           ## repeated ten times\n",
    "                           repeats = 10,\n",
    "                           classProbs=TRUE)"
   ]
  },
  {
   "cell_type": "code",
   "execution_count": 14,
   "id": "23c0d7bb",
   "metadata": {},
   "outputs": [],
   "source": [
    "df.sc <- as.data.frame(scale(df[, 1:11]))\n",
    "df.sc$k2 <- as.factor(paste0('c', df$k2))\n",
    "df.sc$k3 <- as.factor(paste0('c', df$k3))"
   ]
  },
  {
   "cell_type": "markdown",
   "id": "1d8bcf97",
   "metadata": {},
   "source": [
    "## - LDA K2"
   ]
  },
  {
   "cell_type": "code",
   "execution_count": 15,
   "id": "efc646ac",
   "metadata": {
    "scrolled": true
   },
   "outputs": [
    {
     "data": {
      "text/html": [
       "<table class=\"dataframe\">\n",
       "<caption>A data.frame: 6 × 13</caption>\n",
       "<thead>\n",
       "\t<tr><th></th><th scope=col>fixed.acidity</th><th scope=col>volatile.acidity</th><th scope=col>citric.acid</th><th scope=col>residual.sugar</th><th scope=col>chlorides</th><th scope=col>free.sulfur.dioxide</th><th scope=col>total.sulfur.dioxide</th><th scope=col>density</th><th scope=col>pH</th><th scope=col>sulphates</th><th scope=col>alcohol</th><th scope=col>k2</th><th scope=col>k3</th></tr>\n",
       "\t<tr><th></th><th scope=col>&lt;dbl&gt;</th><th scope=col>&lt;dbl&gt;</th><th scope=col>&lt;dbl&gt;</th><th scope=col>&lt;dbl&gt;</th><th scope=col>&lt;dbl&gt;</th><th scope=col>&lt;dbl&gt;</th><th scope=col>&lt;dbl&gt;</th><th scope=col>&lt;dbl&gt;</th><th scope=col>&lt;dbl&gt;</th><th scope=col>&lt;dbl&gt;</th><th scope=col>&lt;dbl&gt;</th><th scope=col>&lt;fct&gt;</th><th scope=col>&lt;fct&gt;</th></tr>\n",
       "</thead>\n",
       "<tbody>\n",
       "\t<tr><th scope=row>1</th><td> 0.35387757</td><td>-0.1245628</td><td> 0.1045781</td><td>-0.81930600</td><td> 0.5731841</td><td>-0.3695676</td><td> 0.2751009</td><td>-0.2236219</td><td>-0.6400338</td><td> 1.19385673</td><td>-0.09933544</td><td>c2</td><td>c1</td></tr>\n",
       "\t<tr><th scope=row>2</th><td> 0.84484966</td><td>-0.1247789</td><td> 0.2316356</td><td> 0.28266546</td><td> 0.2111517</td><td>-1.1178159</td><td>-0.4335474</td><td>-0.2236155</td><td>-1.3345612</td><td>-1.04006015</td><td>-0.01580629</td><td>c2</td><td>c1</td></tr>\n",
       "\t<tr><th scope=row>3</th><td> 0.68119230</td><td>-0.1150527</td><td>-0.1495369</td><td>-0.73453897</td><td>-1.1541126</td><td> 0.5033889</td><td>-0.9423206</td><td>-0.2236089</td><td> 0.2439103</td><td> 0.21651810</td><td>-0.26639374</td><td>c1</td><td>c2</td></tr>\n",
       "\t<tr><th scope=row>4</th><td> 0.84484966</td><td>-0.1245628</td><td>-0.2130657</td><td>-0.77692249</td><td> 0.7340873</td><td> 1.0645752</td><td> 1.3289883</td><td>-0.2236207</td><td>-0.5768949</td><td>-0.20234132</td><td>-0.26639374</td><td>c2</td><td>c1</td></tr>\n",
       "\t<tr><th scope=row>5</th><td> 0.02656285</td><td>-0.1228337</td><td> 0.8669233</td><td>-0.09878620</td><td>-1.1549171</td><td>-1.6790022</td><td>-1.5419462</td><td>-0.2236334</td><td>-1.1451446</td><td> 0.00708839</td><td> 1.65477673</td><td>c1</td><td>c2</td></tr>\n",
       "\t<tr><th scope=row>6</th><td>-0.30075187</td><td>-0.1256435</td><td>-0.7212958</td><td>-0.01401916</td><td> 0.9754422</td><td> 0.2539728</td><td>-0.1791608</td><td>-0.2236153</td><td> 0.4964657</td><td>-0.69101063</td><td>-0.93462694</td><td>c2</td><td>c1</td></tr>\n",
       "</tbody>\n",
       "</table>\n"
      ],
      "text/latex": [
       "A data.frame: 6 × 13\n",
       "\\begin{tabular}{r|lllllllllllll}\n",
       "  & fixed.acidity & volatile.acidity & citric.acid & residual.sugar & chlorides & free.sulfur.dioxide & total.sulfur.dioxide & density & pH & sulphates & alcohol & k2 & k3\\\\\n",
       "  & <dbl> & <dbl> & <dbl> & <dbl> & <dbl> & <dbl> & <dbl> & <dbl> & <dbl> & <dbl> & <dbl> & <fct> & <fct>\\\\\n",
       "\\hline\n",
       "\t1 &  0.35387757 & -0.1245628 &  0.1045781 & -0.81930600 &  0.5731841 & -0.3695676 &  0.2751009 & -0.2236219 & -0.6400338 &  1.19385673 & -0.09933544 & c2 & c1\\\\\n",
       "\t2 &  0.84484966 & -0.1247789 &  0.2316356 &  0.28266546 &  0.2111517 & -1.1178159 & -0.4335474 & -0.2236155 & -1.3345612 & -1.04006015 & -0.01580629 & c2 & c1\\\\\n",
       "\t3 &  0.68119230 & -0.1150527 & -0.1495369 & -0.73453897 & -1.1541126 &  0.5033889 & -0.9423206 & -0.2236089 &  0.2439103 &  0.21651810 & -0.26639374 & c1 & c2\\\\\n",
       "\t4 &  0.84484966 & -0.1245628 & -0.2130657 & -0.77692249 &  0.7340873 &  1.0645752 &  1.3289883 & -0.2236207 & -0.5768949 & -0.20234132 & -0.26639374 & c2 & c1\\\\\n",
       "\t5 &  0.02656285 & -0.1228337 &  0.8669233 & -0.09878620 & -1.1549171 & -1.6790022 & -1.5419462 & -0.2236334 & -1.1451446 &  0.00708839 &  1.65477673 & c1 & c2\\\\\n",
       "\t6 & -0.30075187 & -0.1256435 & -0.7212958 & -0.01401916 &  0.9754422 &  0.2539728 & -0.1791608 & -0.2236153 &  0.4964657 & -0.69101063 & -0.93462694 & c2 & c1\\\\\n",
       "\\end{tabular}\n"
      ],
      "text/markdown": [
       "\n",
       "A data.frame: 6 × 13\n",
       "\n",
       "| <!--/--> | fixed.acidity &lt;dbl&gt; | volatile.acidity &lt;dbl&gt; | citric.acid &lt;dbl&gt; | residual.sugar &lt;dbl&gt; | chlorides &lt;dbl&gt; | free.sulfur.dioxide &lt;dbl&gt; | total.sulfur.dioxide &lt;dbl&gt; | density &lt;dbl&gt; | pH &lt;dbl&gt; | sulphates &lt;dbl&gt; | alcohol &lt;dbl&gt; | k2 &lt;fct&gt; | k3 &lt;fct&gt; |\n",
       "|---|---|---|---|---|---|---|---|---|---|---|---|---|---|\n",
       "| 1 |  0.35387757 | -0.1245628 |  0.1045781 | -0.81930600 |  0.5731841 | -0.3695676 |  0.2751009 | -0.2236219 | -0.6400338 |  1.19385673 | -0.09933544 | c2 | c1 |\n",
       "| 2 |  0.84484966 | -0.1247789 |  0.2316356 |  0.28266546 |  0.2111517 | -1.1178159 | -0.4335474 | -0.2236155 | -1.3345612 | -1.04006015 | -0.01580629 | c2 | c1 |\n",
       "| 3 |  0.68119230 | -0.1150527 | -0.1495369 | -0.73453897 | -1.1541126 |  0.5033889 | -0.9423206 | -0.2236089 |  0.2439103 |  0.21651810 | -0.26639374 | c1 | c2 |\n",
       "| 4 |  0.84484966 | -0.1245628 | -0.2130657 | -0.77692249 |  0.7340873 |  1.0645752 |  1.3289883 | -0.2236207 | -0.5768949 | -0.20234132 | -0.26639374 | c2 | c1 |\n",
       "| 5 |  0.02656285 | -0.1228337 |  0.8669233 | -0.09878620 | -1.1549171 | -1.6790022 | -1.5419462 | -0.2236334 | -1.1451446 |  0.00708839 |  1.65477673 | c1 | c2 |\n",
       "| 6 | -0.30075187 | -0.1256435 | -0.7212958 | -0.01401916 |  0.9754422 |  0.2539728 | -0.1791608 | -0.2236153 |  0.4964657 | -0.69101063 | -0.93462694 | c2 | c1 |\n",
       "\n"
      ],
      "text/plain": [
       "  fixed.acidity volatile.acidity citric.acid residual.sugar chlorides \n",
       "1  0.35387757   -0.1245628        0.1045781  -0.81930600     0.5731841\n",
       "2  0.84484966   -0.1247789        0.2316356   0.28266546     0.2111517\n",
       "3  0.68119230   -0.1150527       -0.1495369  -0.73453897    -1.1541126\n",
       "4  0.84484966   -0.1245628       -0.2130657  -0.77692249     0.7340873\n",
       "5  0.02656285   -0.1228337        0.8669233  -0.09878620    -1.1549171\n",
       "6 -0.30075187   -0.1256435       -0.7212958  -0.01401916     0.9754422\n",
       "  free.sulfur.dioxide total.sulfur.dioxide density    pH         sulphates  \n",
       "1 -0.3695676           0.2751009           -0.2236219 -0.6400338  1.19385673\n",
       "2 -1.1178159          -0.4335474           -0.2236155 -1.3345612 -1.04006015\n",
       "3  0.5033889          -0.9423206           -0.2236089  0.2439103  0.21651810\n",
       "4  1.0645752           1.3289883           -0.2236207 -0.5768949 -0.20234132\n",
       "5 -1.6790022          -1.5419462           -0.2236334 -1.1451446  0.00708839\n",
       "6  0.2539728          -0.1791608           -0.2236153  0.4964657 -0.69101063\n",
       "  alcohol     k2 k3\n",
       "1 -0.09933544 c2 c1\n",
       "2 -0.01580629 c2 c1\n",
       "3 -0.26639374 c1 c2\n",
       "4 -0.26639374 c2 c1\n",
       "5  1.65477673 c1 c2\n",
       "6 -0.93462694 c2 c1"
      ]
     },
     "metadata": {},
     "output_type": "display_data"
    }
   ],
   "source": [
    "head(df.sc)"
   ]
  },
  {
   "cell_type": "code",
   "execution_count": 31,
   "id": "cc215f51",
   "metadata": {},
   "outputs": [
    {
     "data": {
      "text/html": [
       "'The trainining set contains 456 rows'"
      ],
      "text/latex": [
       "'The trainining set contains 456 rows'"
      ],
      "text/markdown": [
       "'The trainining set contains 456 rows'"
      ],
      "text/plain": [
       "[1] \"The trainining set contains 456 rows\""
      ]
     },
     "metadata": {},
     "output_type": "display_data"
    },
    {
     "data": {
      "text/html": [
       "'The test set contains 194 rows'"
      ],
      "text/latex": [
       "'The test set contains 194 rows'"
      ],
      "text/markdown": [
       "'The test set contains 194 rows'"
      ],
      "text/plain": [
       "[1] \"The test set contains 194 rows\""
      ]
     },
     "metadata": {},
     "output_type": "display_data"
    }
   ],
   "source": [
    "set.seed(100)\n",
    "index <- createDataPartition(df.sc$k2, p = 0.70, list = FALSE)\n",
    "train_data <- df.sc[index, ]\n",
    "test_data <- df.sc[-index, ]\n",
    "sprintf(\"The trainining set contains %d rows\", nrow(train_data))\n",
    "sprintf(\"The test set contains %d rows\", nrow(test_data))"
   ]
  },
  {
   "cell_type": "code",
   "execution_count": 32,
   "id": "229edb74",
   "metadata": {},
   "outputs": [
    {
     "data": {
      "text/plain": [
       "\n",
       " c1  c2 \n",
       "136 320 "
      ]
     },
     "metadata": {},
     "output_type": "display_data"
    },
    {
     "data": {
      "text/plain": [
       "\n",
       " c1  c2 \n",
       "320 320 "
      ]
     },
     "metadata": {},
     "output_type": "display_data"
    }
   ],
   "source": [
    "table(train_data$k2)\n",
    "train_balanced <- upSample(x = train_data, y = train_data$k2)\n",
    "train_balanced <- train_balanced[, !(colnames(train_balanced) %in% c(\"Class\"))]\n",
    "table(train_balanced$k2)"
   ]
  },
  {
   "cell_type": "code",
   "execution_count": 33,
   "id": "8bdcb20b",
   "metadata": {},
   "outputs": [
    {
     "data": {
      "text/plain": [
       "Linear Discriminant Analysis \n",
       "\n",
       "640 samples\n",
       " 12 predictor\n",
       "  2 classes: 'c1', 'c2' \n",
       "\n",
       "No pre-processing\n",
       "Resampling: Cross-Validated (10 fold, repeated 10 times) \n",
       "Summary of sample sizes: 576, 576, 576, 576, 576, 576, ... \n",
       "Resampling results:\n",
       "\n",
       "  Accuracy   Kappa    \n",
       "  0.9339063  0.8678125\n"
      ]
     },
     "metadata": {},
     "output_type": "display_data"
    }
   ],
   "source": [
    "lda_model.k2 <- train(k2 ~ ., \n",
    "                   data = train_balanced, \n",
    "                   method = 'lda', \n",
    "                   trControl = fit_control)\n",
    "lda_model.k2"
   ]
  },
  {
   "cell_type": "code",
   "execution_count": 48,
   "id": "3e1ca311",
   "metadata": {},
   "outputs": [
    {
     "data": {
      "text/plain": [
       "Confusion Matrix and Statistics\n",
       "\n",
       "          Reference\n",
       "Prediction  c1  c2\n",
       "        c1  51   0\n",
       "        c2   9 134\n",
       "                                          \n",
       "               Accuracy : 0.9536          \n",
       "                 95% CI : (0.9138, 0.9786)\n",
       "    No Information Rate : 0.6907          \n",
       "    P-Value [Acc > NIR] : < 2.2e-16       \n",
       "                                          \n",
       "                  Kappa : 0.8867          \n",
       "                                          \n",
       " Mcnemar's Test P-Value : 0.007661        \n",
       "                                          \n",
       "            Sensitivity : 0.8500          \n",
       "            Specificity : 1.0000          \n",
       "         Pos Pred Value : 1.0000          \n",
       "         Neg Pred Value : 0.9371          \n",
       "             Prevalence : 0.3093          \n",
       "         Detection Rate : 0.2629          \n",
       "   Detection Prevalence : 0.2629          \n",
       "      Balanced Accuracy : 0.9250          \n",
       "                                          \n",
       "       'Positive' Class : c1              \n",
       "                                          "
      ]
     },
     "metadata": {},
     "output_type": "display_data"
    }
   ],
   "source": [
    "lda_preds.k2 <- predict(lda_model.k2, newdata = test_data)\n",
    "confusionMatrix(lda_preds.k2, test_data$k2)"
   ]
  },
  {
   "cell_type": "code",
   "execution_count": 60,
   "id": "fcb33aa6",
   "metadata": {},
   "outputs": [
    {
     "name": "stdout",
     "output_type": "stream",
     "text": [
      "\n",
      " \n",
      "   Cell Contents\n",
      "|-------------------------|\n",
      "|                       N |\n",
      "| Chi-square contribution |\n",
      "|           N / Row Total |\n",
      "|           N / Col Total |\n",
      "|         N / Table Total |\n",
      "|-------------------------|\n",
      "\n",
      " \n",
      "Total Observations in Table:  194 \n",
      "\n",
      " \n",
      "             | lda_preds.k2 \n",
      "test_data$k2 |        c1 |        c2 | Row Total | \n",
      "-------------|-----------|-----------|-----------|\n",
      "          c1 |        51 |         9 |        60 | \n",
      "             |    78.673 |    28.058 |           | \n",
      "             |     0.850 |     0.150 |     0.309 | \n",
      "             |     1.000 |     0.063 |           | \n",
      "             |     0.263 |     0.046 |           | \n",
      "-------------|-----------|-----------|-----------|\n",
      "          c2 |         0 |       134 |       134 | \n",
      "             |    35.227 |    12.563 |           | \n",
      "             |     0.000 |     1.000 |     0.691 | \n",
      "             |     0.000 |     0.937 |           | \n",
      "             |     0.000 |     0.691 |           | \n",
      "-------------|-----------|-----------|-----------|\n",
      "Column Total |        51 |       143 |       194 | \n",
      "             |     0.263 |     0.737 |           | \n",
      "-------------|-----------|-----------|-----------|\n",
      "\n",
      " \n"
     ]
    }
   ],
   "source": [
    "CrossTable(test_data$k2 ,lda_preds.k2)"
   ]
  },
  {
   "cell_type": "code",
   "execution_count": 49,
   "id": "acd8be36",
   "metadata": {},
   "outputs": [
    {
     "data": {
      "text/html": [
       "<span style=white-space:pre-wrap>'training error =  4.64 %'</span>"
      ],
      "text/latex": [
       "'training error =  4.64 \\%'"
      ],
      "text/markdown": [
       "<span style=white-space:pre-wrap>'training error =  4.64 %'</span>"
      ],
      "text/plain": [
       "[1] \"training error =  4.64 %\""
      ]
     },
     "metadata": {},
     "output_type": "display_data"
    }
   ],
   "source": [
    "paste('training error = ', round(mean(test_data$k2 != lda_preds.k2) * 100, 2), '%')"
   ]
  },
  {
   "cell_type": "markdown",
   "id": "73d4f56d",
   "metadata": {},
   "source": [
    "## - LDA K3"
   ]
  },
  {
   "cell_type": "code",
   "execution_count": 43,
   "id": "6e1b5df1",
   "metadata": {},
   "outputs": [
    {
     "data": {
      "text/html": [
       "'The trainining set contains 456 rows'"
      ],
      "text/latex": [
       "'The trainining set contains 456 rows'"
      ],
      "text/markdown": [
       "'The trainining set contains 456 rows'"
      ],
      "text/plain": [
       "[1] \"The trainining set contains 456 rows\""
      ]
     },
     "metadata": {},
     "output_type": "display_data"
    },
    {
     "data": {
      "text/html": [
       "'The test set contains 194 rows'"
      ],
      "text/latex": [
       "'The test set contains 194 rows'"
      ],
      "text/markdown": [
       "'The test set contains 194 rows'"
      ],
      "text/plain": [
       "[1] \"The test set contains 194 rows\""
      ]
     },
     "metadata": {},
     "output_type": "display_data"
    }
   ],
   "source": [
    "set.seed(100)\n",
    "index <- createDataPartition(df.sc$k3, p = 0.70, list = FALSE)\n",
    "train_data <- df.sc[index, ]\n",
    "test_data <- df.sc[-index, ]\n",
    "sprintf(\"The trainining set contains %d rows\", nrow(train_data))\n",
    "sprintf(\"The test set contains %d rows\", nrow(test_data))"
   ]
  },
  {
   "cell_type": "code",
   "execution_count": 44,
   "id": "474d60c9",
   "metadata": {},
   "outputs": [
    {
     "data": {
      "text/plain": [
       "\n",
       " c1  c2  c3 \n",
       "225 112 119 "
      ]
     },
     "metadata": {},
     "output_type": "display_data"
    },
    {
     "data": {
      "text/plain": [
       "\n",
       " c1  c2  c3 \n",
       "225 225 225 "
      ]
     },
     "metadata": {},
     "output_type": "display_data"
    }
   ],
   "source": [
    "table(train_data$k3)\n",
    "train_balanced <- upSample(x = train_data, y = train_data$k3)\n",
    "train_balanced <- train_balanced[, !(colnames(train_balanced) %in% c(\"Class\"))]\n",
    "table(train_balanced$k3)"
   ]
  },
  {
   "cell_type": "code",
   "execution_count": 45,
   "id": "00459f23",
   "metadata": {},
   "outputs": [
    {
     "data": {
      "text/plain": [
       "Linear Discriminant Analysis \n",
       "\n",
       "675 samples\n",
       " 12 predictor\n",
       "  3 classes: 'c1', 'c2', 'c3' \n",
       "\n",
       "No pre-processing\n",
       "Resampling: Cross-Validated (10 fold, repeated 10 times) \n",
       "Summary of sample sizes: 608, 606, 609, 606, 608, 608, ... \n",
       "Resampling results:\n",
       "\n",
       "  Accuracy  Kappa   \n",
       "  0.95126   0.926886\n"
      ]
     },
     "metadata": {},
     "output_type": "display_data"
    }
   ],
   "source": [
    "lda_model.k3 <- train(k3 ~ ., \n",
    "                   data = train_balanced, \n",
    "                   method = 'lda', \n",
    "                   trControl = fit_control)\n",
    "lda_model.k3"
   ]
  },
  {
   "cell_type": "code",
   "execution_count": 46,
   "id": "4b48921b",
   "metadata": {},
   "outputs": [
    {
     "data": {
      "text/plain": [
       "Confusion Matrix and Statistics\n",
       "\n",
       "          Reference\n",
       "Prediction c1 c2 c3\n",
       "        c1 80  0  2\n",
       "        c2 12 48  0\n",
       "        c3  4  0 48\n",
       "\n",
       "Overall Statistics\n",
       "                                          \n",
       "               Accuracy : 0.9072          \n",
       "                 95% CI : (0.8573, 0.9441)\n",
       "    No Information Rate : 0.4948          \n",
       "    P-Value [Acc > NIR] : < 2.2e-16       \n",
       "                                          \n",
       "                  Kappa : 0.8562          \n",
       "                                          \n",
       " Mcnemar's Test P-Value : NA              \n",
       "\n",
       "Statistics by Class:\n",
       "\n",
       "                     Class: c1 Class: c2 Class: c3\n",
       "Sensitivity             0.8333    1.0000    0.9600\n",
       "Specificity             0.9796    0.9178    0.9722\n",
       "Pos Pred Value          0.9756    0.8000    0.9231\n",
       "Neg Pred Value          0.8571    1.0000    0.9859\n",
       "Prevalence              0.4948    0.2474    0.2577\n",
       "Detection Rate          0.4124    0.2474    0.2474\n",
       "Detection Prevalence    0.4227    0.3093    0.2680\n",
       "Balanced Accuracy       0.9065    0.9589    0.9661"
      ]
     },
     "metadata": {},
     "output_type": "display_data"
    }
   ],
   "source": [
    "lda_preds.k3 <- predict(lda_model.k3, newdata = test_data)\n",
    "confusionMatrix(lda_preds.k3, test_data$k3)"
   ]
  },
  {
   "cell_type": "code",
   "execution_count": 50,
   "id": "e4c5c6ea",
   "metadata": {},
   "outputs": [
    {
     "data": {
      "text/html": [
       "<span style=white-space:pre-wrap>'training error =  9.28 %'</span>"
      ],
      "text/latex": [
       "'training error =  9.28 \\%'"
      ],
      "text/markdown": [
       "<span style=white-space:pre-wrap>'training error =  9.28 %'</span>"
      ],
      "text/plain": [
       "[1] \"training error =  9.28 %\""
      ]
     },
     "metadata": {},
     "output_type": "display_data"
    }
   ],
   "source": [
    "paste('training error = ', round(mean(test_data$k3 != lda_preds.k3) * 100, 2), '%')"
   ]
  },
  {
   "cell_type": "code",
   "execution_count": null,
   "id": "ca89c0e2",
   "metadata": {},
   "outputs": [],
   "source": []
  }
 ],
 "metadata": {
  "kernelspec": {
   "display_name": "R",
   "language": "R",
   "name": "ir"
  },
  "language_info": {
   "codemirror_mode": "r",
   "file_extension": ".r",
   "mimetype": "text/x-r-source",
   "name": "R",
   "pygments_lexer": "r",
   "version": "4.2.1"
  }
 },
 "nbformat": 4,
 "nbformat_minor": 5
}
